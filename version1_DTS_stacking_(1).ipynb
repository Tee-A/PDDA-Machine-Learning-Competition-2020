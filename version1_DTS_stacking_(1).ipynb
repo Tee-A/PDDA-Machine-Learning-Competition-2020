{
  "nbformat": 4,
  "nbformat_minor": 0,
  "metadata": {
    "colab": {
      "name": "version1_DTS_stacking (1).ipynb",
      "provenance": []
    },
    "kernelspec": {
      "name": "python3",
      "display_name": "Python 3"
    }
  },
  "cells": [
    {
      "cell_type": "code",
      "metadata": {
        "id": "s7doZUcGsWxu",
        "colab_type": "code",
        "outputId": "af9d8c70-fe9a-4161-ab93-c20468d10beb",
        "colab": {
          "base_uri": "https://localhost:8080/",
          "height": 329
        }
      },
      "source": [
        "!pip install catboost==0.20.2"
      ],
      "execution_count": 0,
      "outputs": [
        {
          "output_type": "stream",
          "text": [
            "Collecting catboost==0.20.2\n",
            "\u001b[?25l  Downloading https://files.pythonhosted.org/packages/97/c4/586923de4634f88a31fd1b4966e15707a912b98b6f4566651b5ef58f36b5/catboost-0.20.2-cp36-none-manylinux1_x86_64.whl (63.9MB)\n",
            "\u001b[K     |████████████████████████████████| 63.9MB 57kB/s \n",
            "\u001b[?25hRequirement already satisfied: matplotlib in /usr/local/lib/python3.6/dist-packages (from catboost==0.20.2) (3.2.1)\n",
            "Requirement already satisfied: pandas>=0.24.0 in /usr/local/lib/python3.6/dist-packages (from catboost==0.20.2) (1.0.3)\n",
            "Requirement already satisfied: graphviz in /usr/local/lib/python3.6/dist-packages (from catboost==0.20.2) (0.10.1)\n",
            "Requirement already satisfied: plotly in /usr/local/lib/python3.6/dist-packages (from catboost==0.20.2) (4.4.1)\n",
            "Requirement already satisfied: scipy in /usr/local/lib/python3.6/dist-packages (from catboost==0.20.2) (1.4.1)\n",
            "Requirement already satisfied: numpy>=1.16.0 in /usr/local/lib/python3.6/dist-packages (from catboost==0.20.2) (1.18.3)\n",
            "Requirement already satisfied: six in /usr/local/lib/python3.6/dist-packages (from catboost==0.20.2) (1.12.0)\n",
            "Requirement already satisfied: python-dateutil>=2.1 in /usr/local/lib/python3.6/dist-packages (from matplotlib->catboost==0.20.2) (2.8.1)\n",
            "Requirement already satisfied: pyparsing!=2.0.4,!=2.1.2,!=2.1.6,>=2.0.1 in /usr/local/lib/python3.6/dist-packages (from matplotlib->catboost==0.20.2) (2.4.7)\n",
            "Requirement already satisfied: cycler>=0.10 in /usr/local/lib/python3.6/dist-packages (from matplotlib->catboost==0.20.2) (0.10.0)\n",
            "Requirement already satisfied: kiwisolver>=1.0.1 in /usr/local/lib/python3.6/dist-packages (from matplotlib->catboost==0.20.2) (1.2.0)\n",
            "Requirement already satisfied: pytz>=2017.2 in /usr/local/lib/python3.6/dist-packages (from pandas>=0.24.0->catboost==0.20.2) (2018.9)\n",
            "Requirement already satisfied: retrying>=1.3.3 in /usr/local/lib/python3.6/dist-packages (from plotly->catboost==0.20.2) (1.3.3)\n",
            "Installing collected packages: catboost\n",
            "Successfully installed catboost-0.20.2\n"
          ],
          "name": "stdout"
        }
      ]
    },
    {
      "cell_type": "code",
      "metadata": {
        "id": "GjgIQAa5snTx",
        "colab_type": "code",
        "colab": {}
      },
      "source": [
        "import pandas as pd\n",
        "import numpy as np\n",
        "import xgboost as xgb\n",
        "import catboost as cb\n",
        "import lightgbm as lgbm\n",
        "from sklearn.model_selection import GridSearchCV, RandomizedSearchCV, TimeSeriesSplit\n",
        "from sklearn.metrics import r2_score, mean_squared_error, mean_absolute_error\n",
        "import math\n",
        "import scipy.stats as st\n",
        "%matplotlib inline\n",
        "pd.set_option(\"display.max_rows\", 100)\n",
        "pd.set_option(\"display.max_columns\", 100)\n"
      ],
      "execution_count": 0,
      "outputs": []
    },
    {
      "cell_type": "code",
      "metadata": {
        "id": "eBU8CDz7tE26",
        "colab_type": "code",
        "colab": {}
      },
      "source": [
        "df1 = pd.read_csv(\"/content/drive/My Drive/PDDA/Data3_1_2020/train.csv\")\n",
        "df2 = pd.read_csv(\"/content/drive/My Drive/PDDA/Data3_1_2020/test.csv\")\n",
        "valid = pd.read_csv(\"/content/drive/My Drive/PDDA/Part_Of_Expected_Results/real_result_20perc.csv\")"
      ],
      "execution_count": 0,
      "outputs": []
    },
    {
      "cell_type": "code",
      "metadata": {
        "id": "dSGHsxYwtHj9",
        "colab_type": "code",
        "colab": {}
      },
      "source": [
        "# remove all rows that contains missing value\n",
        "df1.replace(['-999', -999], np.nan, inplace=True)\n",
        "\n",
        "\n",
        "df2.replace(['-999', -999], np.nan, inplace=True)\n"
      ],
      "execution_count": 0,
      "outputs": []
    },
    {
      "cell_type": "markdown",
      "metadata": {
        "id": "YmJiHfoStXU2",
        "colab_type": "text"
      },
      "source": [
        "# Dropping Nan Values"
      ]
    },
    {
      "cell_type": "code",
      "metadata": {
        "id": "vwX72mP8tJvu",
        "colab_type": "code",
        "colab": {}
      },
      "source": [
        "df = df1.dropna()"
      ],
      "execution_count": 0,
      "outputs": []
    },
    {
      "cell_type": "markdown",
      "metadata": {
        "id": "NA4WChAftb0v",
        "colab_type": "text"
      },
      "source": [
        "# Feature Engineering"
      ]
    },
    {
      "cell_type": "code",
      "metadata": {
        "id": "ru8kEnRZtM6g",
        "colab_type": "code",
        "colab": {}
      },
      "source": [
        "train = df.drop(['DTC'],axis=1)\n",
        "train['CNC'] = np.where((train.CNC >= 0.7),0.7,train.CNC)\n",
        "train['HRM'] = np.where((train.HRM >= 10),10,train.HRM)\n",
        "train['HRD'] = np.where((train.HRD >= 10),10,train.HRD)\n",
        "train['GR'] = np.where((train.GR >= 150),150,train.GR)"
      ],
      "execution_count": 0,
      "outputs": []
    },
    {
      "cell_type": "markdown",
      "metadata": {
        "id": "Pjpr3UmktfK3",
        "colab_type": "text"
      },
      "source": [
        "# Same Feature Engr on Valdation set"
      ]
    },
    {
      "cell_type": "code",
      "metadata": {
        "id": "a377I2qCti68",
        "colab_type": "code",
        "colab": {}
      },
      "source": [
        "valid1 =valid\n",
        "\n",
        "valid1['CNC'] = np.where((valid1.CNC >= 0.7),0.7,valid1.CNC)\n",
        "valid1['HRM'] = np.where((valid1.HRM >= 10),10,valid1.HRM)\n",
        "valid1['HRD'] = np.where((valid1.HRD >= 10),10,valid1.HRD)\n",
        "valid1['GR'] = np.where((valid1.GR >= 150),150,valid1.GR)\n"
      ],
      "execution_count": 0,
      "outputs": []
    },
    {
      "cell_type": "code",
      "metadata": {
        "id": "jHb1k4rntmWw",
        "colab_type": "code",
        "colab": {}
      },
      "source": [
        "train_x = train.drop('DTS',axis=1)\n",
        "train_y = train['DTS']\n",
        "params = {\"max_depth\": [5,10, 15],\n",
        "         \"learning_rate\": [0.01, 0.05, 0.1,],\n",
        "         \"n_estimators\": [100, 250,300,500,1000]}\n",
        "params_cb = {'depth': [5, 10, 15],\n",
        "            'learning_rate': [0.01, 0.05, 0.1],\n",
        "            'iterations': [100, 250]}\n",
        "test_y = valid['DTS']\n",
        "test_x = valid1.drop(['DTC', 'DTS'], axis=1)\n",
        "n_splits = 5\n",
        "max_train_size = len(train_x) // (n_splits+1)"
      ],
      "execution_count": 0,
      "outputs": []
    },
    {
      "cell_type": "code",
      "metadata": {
        "id": "j7Irv9bItp1N",
        "colab_type": "code",
        "outputId": "a79bc556-0d98-49c5-b806-228c2476d4cb",
        "colab": {
          "base_uri": "https://localhost:8080/",
          "height": 138
        }
      },
      "source": [
        "%%time\n",
        "model_lg = lgbm.LGBMRegressor()\n",
        "grid_search_lg = GridSearchCV(model_lg, param_grid=params, cv=TimeSeriesSplit(n_splits=n_splits, max_train_size=max_train_size), verbose=1, n_jobs=-1)\n",
        "grid_search_lg.fit(train_x, train_y)"
      ],
      "execution_count": 0,
      "outputs": [
        {
          "output_type": "stream",
          "text": [
            "Fitting 5 folds for each of 45 candidates, totalling 225 fits\n"
          ],
          "name": "stdout"
        },
        {
          "output_type": "stream",
          "text": [
            "[Parallel(n_jobs=-1)]: Using backend LokyBackend with 2 concurrent workers.\n",
            "[Parallel(n_jobs=-1)]: Done  46 tasks      | elapsed:   19.5s\n",
            "[Parallel(n_jobs=-1)]: Done 196 tasks      | elapsed:  1.4min\n"
          ],
          "name": "stderr"
        },
        {
          "output_type": "stream",
          "text": [
            "CPU times: user 1.86 s, sys: 120 ms, total: 1.98 s\n",
            "Wall time: 1min 43s\n"
          ],
          "name": "stdout"
        },
        {
          "output_type": "stream",
          "text": [
            "[Parallel(n_jobs=-1)]: Done 225 out of 225 | elapsed:  1.7min finished\n"
          ],
          "name": "stderr"
        }
      ]
    },
    {
      "cell_type": "code",
      "metadata": {
        "id": "NKb1GsVHtuk0",
        "colab_type": "code",
        "outputId": "ca4846da-2000-4e1f-880c-e39b7409bd1b",
        "colab": {
          "base_uri": "https://localhost:8080/",
          "height": 52
        }
      },
      "source": [
        "predict_DTS_lg1 = grid_search_lg.predict(test_x)\n",
        "print('LightGBM RMSE Score: {}'.format(math.sqrt(mean_squared_error(test_y, predict_DTS_lg1))))\n",
        "print(\"BEST PARAMETERS: \" + str(grid_search_lg.best_params_))"
      ],
      "execution_count": 0,
      "outputs": [
        {
          "output_type": "stream",
          "text": [
            "LightGBM RMSE Score: 23.504229064844107\n",
            "BEST PARAMETERS: {'learning_rate': 0.1, 'max_depth': 5, 'n_estimators': 100}\n"
          ],
          "name": "stdout"
        }
      ]
    },
    {
      "cell_type": "code",
      "metadata": {
        "id": "5pVS5s8ct4kd",
        "colab_type": "code",
        "colab": {}
      },
      "source": [
        ""
      ],
      "execution_count": 0,
      "outputs": []
    },
    {
      "cell_type": "markdown",
      "metadata": {
        "id": "weZcP0GxuiSe",
        "colab_type": "text"
      },
      "source": [
        "# Making Xgboost DTS prediction"
      ]
    },
    {
      "cell_type": "code",
      "metadata": {
        "id": "8mmudKS8ulsI",
        "colab_type": "code",
        "colab": {}
      },
      "source": [
        "train = df1.drop(['DTC'],axis=1)\n",
        "train1 = df1.drop(['DTC'],axis=1)\n",
        "train1['CAL'] = train['CAL'].fillna(train['CAL'].median())\n",
        "train1['CNC'] = train['CNC'].fillna(train['CNC'].median())\n",
        "train1['GR'] = train['GR'].fillna(train['GR'].median())\n",
        "train1['HRD'] = train['HRD'].fillna(train['HRD'].median())\n",
        "train1['HRM'] = train['HRM'].fillna(train['HRM'].median())\n",
        "train1['PE'] = train['PE'].fillna(train['PE'].median())\n",
        "train1['ZDEN'] = train['ZDEN'].fillna(train['ZDEN'].median())"
      ],
      "execution_count": 0,
      "outputs": []
    },
    {
      "cell_type": "code",
      "metadata": {
        "id": "-nf4sulAvOJR",
        "colab_type": "code",
        "outputId": "e85711d9-3db8-4e3d-d0d1-4988855257a8",
        "colab": {
          "base_uri": "https://localhost:8080/",
          "height": 294
        }
      },
      "source": [
        "train1 = train1.dropna()\n",
        "train = train1\n",
        "train.describe()"
      ],
      "execution_count": 0,
      "outputs": [
        {
          "output_type": "execute_result",
          "data": {
            "text/html": [
              "<div>\n",
              "<style scoped>\n",
              "    .dataframe tbody tr th:only-of-type {\n",
              "        vertical-align: middle;\n",
              "    }\n",
              "\n",
              "    .dataframe tbody tr th {\n",
              "        vertical-align: top;\n",
              "    }\n",
              "\n",
              "    .dataframe thead th {\n",
              "        text-align: right;\n",
              "    }\n",
              "</style>\n",
              "<table border=\"1\" class=\"dataframe\">\n",
              "  <thead>\n",
              "    <tr style=\"text-align: right;\">\n",
              "      <th></th>\n",
              "      <th>CAL</th>\n",
              "      <th>CNC</th>\n",
              "      <th>GR</th>\n",
              "      <th>HRD</th>\n",
              "      <th>HRM</th>\n",
              "      <th>PE</th>\n",
              "      <th>ZDEN</th>\n",
              "      <th>DTS</th>\n",
              "    </tr>\n",
              "  </thead>\n",
              "  <tbody>\n",
              "    <tr>\n",
              "      <th>count</th>\n",
              "      <td>25278.000000</td>\n",
              "      <td>25278.000000</td>\n",
              "      <td>25278.000000</td>\n",
              "      <td>25278.000000</td>\n",
              "      <td>25278.000000</td>\n",
              "      <td>25278.000000</td>\n",
              "      <td>25278.000000</td>\n",
              "      <td>25278.000000</td>\n",
              "    </tr>\n",
              "    <tr>\n",
              "      <th>mean</th>\n",
              "      <td>8.516952</td>\n",
              "      <td>0.259706</td>\n",
              "      <td>50.032116</td>\n",
              "      <td>19.727229</td>\n",
              "      <td>16.824116</td>\n",
              "      <td>4.279824</td>\n",
              "      <td>2.417345</td>\n",
              "      <td>180.655730</td>\n",
              "    </tr>\n",
              "    <tr>\n",
              "      <th>std</th>\n",
              "      <td>1.785502</td>\n",
              "      <td>2.759995</td>\n",
              "      <td>54.917419</td>\n",
              "      <td>378.672530</td>\n",
              "      <td>483.181868</td>\n",
              "      <td>4.184133</td>\n",
              "      <td>0.172678</td>\n",
              "      <td>81.141960</td>\n",
              "    </tr>\n",
              "    <tr>\n",
              "      <th>min</th>\n",
              "      <td>5.930400</td>\n",
              "      <td>0.014500</td>\n",
              "      <td>-0.146000</td>\n",
              "      <td>0.054100</td>\n",
              "      <td>0.061600</td>\n",
              "      <td>-0.023200</td>\n",
              "      <td>0.680600</td>\n",
              "      <td>80.580400</td>\n",
              "    </tr>\n",
              "    <tr>\n",
              "      <th>25%</th>\n",
              "      <td>6.891925</td>\n",
              "      <td>0.124700</td>\n",
              "      <td>18.329275</td>\n",
              "      <td>0.887925</td>\n",
              "      <td>0.883100</td>\n",
              "      <td>0.051900</td>\n",
              "      <td>2.255000</td>\n",
              "      <td>129.446625</td>\n",
              "    </tr>\n",
              "    <tr>\n",
              "      <th>50%</th>\n",
              "      <td>8.578100</td>\n",
              "      <td>0.186700</td>\n",
              "      <td>37.082200</td>\n",
              "      <td>1.854100</td>\n",
              "      <td>1.862100</td>\n",
              "      <td>4.591900</td>\n",
              "      <td>2.461000</td>\n",
              "      <td>144.593050</td>\n",
              "    </tr>\n",
              "    <tr>\n",
              "      <th>75%</th>\n",
              "      <td>8.707575</td>\n",
              "      <td>0.299275</td>\n",
              "      <td>60.753975</td>\n",
              "      <td>3.366050</td>\n",
              "      <td>3.488275</td>\n",
              "      <td>7.095625</td>\n",
              "      <td>2.559400</td>\n",
              "      <td>191.475125</td>\n",
              "    </tr>\n",
              "    <tr>\n",
              "      <th>max</th>\n",
              "      <td>21.064200</td>\n",
              "      <td>365.885000</td>\n",
              "      <td>1470.253400</td>\n",
              "      <td>10000.000000</td>\n",
              "      <td>60467.761700</td>\n",
              "      <td>28.106400</td>\n",
              "      <td>3.259700</td>\n",
              "      <td>487.438400</td>\n",
              "    </tr>\n",
              "  </tbody>\n",
              "</table>\n",
              "</div>"
            ],
            "text/plain": [
              "                CAL           CNC            GR           HRD           HRM  \\\n",
              "count  25278.000000  25278.000000  25278.000000  25278.000000  25278.000000   \n",
              "mean       8.516952      0.259706     50.032116     19.727229     16.824116   \n",
              "std        1.785502      2.759995     54.917419    378.672530    483.181868   \n",
              "min        5.930400      0.014500     -0.146000      0.054100      0.061600   \n",
              "25%        6.891925      0.124700     18.329275      0.887925      0.883100   \n",
              "50%        8.578100      0.186700     37.082200      1.854100      1.862100   \n",
              "75%        8.707575      0.299275     60.753975      3.366050      3.488275   \n",
              "max       21.064200    365.885000   1470.253400  10000.000000  60467.761700   \n",
              "\n",
              "                 PE          ZDEN           DTS  \n",
              "count  25278.000000  25278.000000  25278.000000  \n",
              "mean       4.279824      2.417345    180.655730  \n",
              "std        4.184133      0.172678     81.141960  \n",
              "min       -0.023200      0.680600     80.580400  \n",
              "25%        0.051900      2.255000    129.446625  \n",
              "50%        4.591900      2.461000    144.593050  \n",
              "75%        7.095625      2.559400    191.475125  \n",
              "max       28.106400      3.259700    487.438400  "
            ]
          },
          "metadata": {
            "tags": []
          },
          "execution_count": 33
        }
      ]
    },
    {
      "cell_type": "code",
      "metadata": {
        "id": "RD63Y9U-vRyl",
        "colab_type": "code",
        "colab": {}
      },
      "source": [
        "train['CNC'] = np.where((train.CNC >= 0.7),0.7,train.CNC)\n",
        "train['HRM'] = np.where((train.HRM >= 10),10,train.HRM)\n",
        "train['HRD'] = np.where((train.HRD >= 10),10,train.HRD)\n",
        "train['GR'] = np.where((train.GR >= 200),200,train.GR)"
      ],
      "execution_count": 0,
      "outputs": []
    },
    {
      "cell_type": "code",
      "metadata": {
        "id": "wOe0yS9uvcyY",
        "colab_type": "code",
        "colab": {}
      },
      "source": [
        "valid1 =valid\n",
        "valid1['CNC'] = np.where((valid1.CNC >= 0.7),0.7,valid1.CNC)\n",
        "valid1['HRM'] = np.where((valid1.HRM >= 10),10,valid1.HRM)\n",
        "valid1['HRD'] = np.where((valid1.HRD >= 10),10,valid1.HRD)\n",
        "valid1['GR'] = np.where((valid1.GR >= 200),200,valid1.GR)"
      ],
      "execution_count": 0,
      "outputs": []
    },
    {
      "cell_type": "code",
      "metadata": {
        "id": "UkbZLbL9vi9M",
        "colab_type": "code",
        "outputId": "2ed68377-2cc8-48b7-c20f-262598c6709d",
        "colab": {
          "base_uri": "https://localhost:8080/",
          "height": 294
        }
      },
      "source": [
        "valid1.describe()"
      ],
      "execution_count": 0,
      "outputs": [
        {
          "output_type": "execute_result",
          "data": {
            "text/html": [
              "<div>\n",
              "<style scoped>\n",
              "    .dataframe tbody tr th:only-of-type {\n",
              "        vertical-align: middle;\n",
              "    }\n",
              "\n",
              "    .dataframe tbody tr th {\n",
              "        vertical-align: top;\n",
              "    }\n",
              "\n",
              "    .dataframe thead th {\n",
              "        text-align: right;\n",
              "    }\n",
              "</style>\n",
              "<table border=\"1\" class=\"dataframe\">\n",
              "  <thead>\n",
              "    <tr style=\"text-align: right;\">\n",
              "      <th></th>\n",
              "      <th>CAL</th>\n",
              "      <th>CNC</th>\n",
              "      <th>GR</th>\n",
              "      <th>HRD</th>\n",
              "      <th>HRM</th>\n",
              "      <th>PE</th>\n",
              "      <th>ZDEN</th>\n",
              "      <th>DTC</th>\n",
              "      <th>DTS</th>\n",
              "    </tr>\n",
              "  </thead>\n",
              "  <tbody>\n",
              "    <tr>\n",
              "      <th>count</th>\n",
              "      <td>2217.000000</td>\n",
              "      <td>2217.000000</td>\n",
              "      <td>2217.000000</td>\n",
              "      <td>2217.000000</td>\n",
              "      <td>2217.000000</td>\n",
              "      <td>2217.000000</td>\n",
              "      <td>2217.000000</td>\n",
              "      <td>2217.000000</td>\n",
              "      <td>2217.000000</td>\n",
              "    </tr>\n",
              "    <tr>\n",
              "      <th>mean</th>\n",
              "      <td>8.634826</td>\n",
              "      <td>0.158620</td>\n",
              "      <td>27.902927</td>\n",
              "      <td>3.427507</td>\n",
              "      <td>3.773550</td>\n",
              "      <td>7.360546</td>\n",
              "      <td>2.476402</td>\n",
              "      <td>76.716787</td>\n",
              "      <td>145.373654</td>\n",
              "    </tr>\n",
              "    <tr>\n",
              "      <th>std</th>\n",
              "      <td>0.044438</td>\n",
              "      <td>0.090789</td>\n",
              "      <td>28.096775</td>\n",
              "      <td>2.498131</td>\n",
              "      <td>2.672341</td>\n",
              "      <td>1.255721</td>\n",
              "      <td>0.150628</td>\n",
              "      <td>14.257791</td>\n",
              "      <td>44.345398</td>\n",
              "    </tr>\n",
              "    <tr>\n",
              "      <th>min</th>\n",
              "      <td>8.500000</td>\n",
              "      <td>0.009800</td>\n",
              "      <td>1.235100</td>\n",
              "      <td>0.086100</td>\n",
              "      <td>0.154800</td>\n",
              "      <td>4.780900</td>\n",
              "      <td>2.033400</td>\n",
              "      <td>53.164700</td>\n",
              "      <td>86.306500</td>\n",
              "    </tr>\n",
              "    <tr>\n",
              "      <th>25%</th>\n",
              "      <td>8.625000</td>\n",
              "      <td>0.092000</td>\n",
              "      <td>8.535300</td>\n",
              "      <td>1.770200</td>\n",
              "      <td>1.857600</td>\n",
              "      <td>6.526200</td>\n",
              "      <td>2.377200</td>\n",
              "      <td>66.169800</td>\n",
              "      <td>119.515300</td>\n",
              "    </tr>\n",
              "    <tr>\n",
              "      <th>50%</th>\n",
              "      <td>8.625000</td>\n",
              "      <td>0.128900</td>\n",
              "      <td>19.375200</td>\n",
              "      <td>2.772100</td>\n",
              "      <td>3.197000</td>\n",
              "      <td>7.881300</td>\n",
              "      <td>2.535500</td>\n",
              "      <td>71.417900</td>\n",
              "      <td>130.290800</td>\n",
              "    </tr>\n",
              "    <tr>\n",
              "      <th>75%</th>\n",
              "      <td>8.671900</td>\n",
              "      <td>0.214200</td>\n",
              "      <td>37.201300</td>\n",
              "      <td>4.511500</td>\n",
              "      <td>5.029100</td>\n",
              "      <td>8.308300</td>\n",
              "      <td>2.582500</td>\n",
              "      <td>85.807000</td>\n",
              "      <td>146.235700</td>\n",
              "    </tr>\n",
              "    <tr>\n",
              "      <th>max</th>\n",
              "      <td>8.781300</td>\n",
              "      <td>0.543400</td>\n",
              "      <td>150.000000</td>\n",
              "      <td>10.000000</td>\n",
              "      <td>10.000000</td>\n",
              "      <td>13.741000</td>\n",
              "      <td>3.006900</td>\n",
              "      <td>120.351200</td>\n",
              "      <td>342.425400</td>\n",
              "    </tr>\n",
              "  </tbody>\n",
              "</table>\n",
              "</div>"
            ],
            "text/plain": [
              "               CAL          CNC           GR          HRD          HRM  \\\n",
              "count  2217.000000  2217.000000  2217.000000  2217.000000  2217.000000   \n",
              "mean      8.634826     0.158620    27.902927     3.427507     3.773550   \n",
              "std       0.044438     0.090789    28.096775     2.498131     2.672341   \n",
              "min       8.500000     0.009800     1.235100     0.086100     0.154800   \n",
              "25%       8.625000     0.092000     8.535300     1.770200     1.857600   \n",
              "50%       8.625000     0.128900    19.375200     2.772100     3.197000   \n",
              "75%       8.671900     0.214200    37.201300     4.511500     5.029100   \n",
              "max       8.781300     0.543400   150.000000    10.000000    10.000000   \n",
              "\n",
              "                PE         ZDEN          DTC          DTS  \n",
              "count  2217.000000  2217.000000  2217.000000  2217.000000  \n",
              "mean      7.360546     2.476402    76.716787   145.373654  \n",
              "std       1.255721     0.150628    14.257791    44.345398  \n",
              "min       4.780900     2.033400    53.164700    86.306500  \n",
              "25%       6.526200     2.377200    66.169800   119.515300  \n",
              "50%       7.881300     2.535500    71.417900   130.290800  \n",
              "75%       8.308300     2.582500    85.807000   146.235700  \n",
              "max      13.741000     3.006900   120.351200   342.425400  "
            ]
          },
          "metadata": {
            "tags": []
          },
          "execution_count": 36
        }
      ]
    },
    {
      "cell_type": "code",
      "metadata": {
        "id": "U_fPCp_PvlZM",
        "colab_type": "code",
        "colab": {}
      },
      "source": [
        "X = train.drop('DTS',axis=1)\n",
        "y = train['DTS']\n",
        "test = valid1.drop(['DTC','DTS'],axis=1)"
      ],
      "execution_count": 0,
      "outputs": []
    },
    {
      "cell_type": "code",
      "metadata": {
        "id": "ALVRBixFvpvA",
        "colab_type": "code",
        "colab": {}
      },
      "source": [
        "best_xgb_model = xgb.XGBRegressor(colsample_bytree=0.8606,\n",
        "                 gamma=4.794,                 \n",
        "                 learning_rate=0.05,\n",
        "                 max_depth=7,\n",
        "                 min_child_weight=14.03,\n",
        "                 n_estimators=1000,                                                                    \n",
        "                 subsample=0.9863,\n",
        "                 seed=1234)\n"
      ],
      "execution_count": 0,
      "outputs": []
    },
    {
      "cell_type": "code",
      "metadata": {
        "id": "dsTQWnoGvtlx",
        "colab_type": "code",
        "outputId": "36b9d422-a9f7-45f1-9eb2-26f69b87216b",
        "colab": {
          "base_uri": "https://localhost:8080/",
          "height": 156
        }
      },
      "source": [
        "best_xgb_model.fit(X,y)"
      ],
      "execution_count": 0,
      "outputs": [
        {
          "output_type": "stream",
          "text": [
            "[07:48:05] WARNING: /workspace/src/objective/regression_obj.cu:152: reg:linear is now deprecated in favor of reg:squarederror.\n"
          ],
          "name": "stdout"
        },
        {
          "output_type": "execute_result",
          "data": {
            "text/plain": [
              "XGBRegressor(base_score=0.5, booster='gbtree', colsample_bylevel=1,\n",
              "             colsample_bynode=1, colsample_bytree=0.8606, gamma=4.794,\n",
              "             importance_type='gain', learning_rate=0.05, max_delta_step=0,\n",
              "             max_depth=7, min_child_weight=14.03, missing=None,\n",
              "             n_estimators=1000, n_jobs=1, nthread=None, objective='reg:linear',\n",
              "             random_state=0, reg_alpha=0, reg_lambda=1, scale_pos_weight=1,\n",
              "             seed=1234, silent=None, subsample=0.9863, verbosity=1)"
            ]
          },
          "metadata": {
            "tags": []
          },
          "execution_count": 39
        }
      ]
    },
    {
      "cell_type": "code",
      "metadata": {
        "id": "ZdFLbif_vwE3",
        "colab_type": "code",
        "outputId": "eba0215c-d13e-4f1e-f9fa-a7dd3f7928bd",
        "colab": {
          "base_uri": "https://localhost:8080/",
          "height": 34
        }
      },
      "source": [
        "xgb1_DTS_preds = best_xgb_model.predict(test)\n",
        "real_DTS_values = valid['DTS']\n",
        "print('Root Mean Square Error is:', '{:.5f}'.format(np.sqrt(mean_squared_error(real_DTS_values, xgb1_DTS_preds))))"
      ],
      "execution_count": 0,
      "outputs": [
        {
          "output_type": "stream",
          "text": [
            "Root Mean Square Error is: 24.23341\n"
          ],
          "name": "stdout"
        }
      ]
    },
    {
      "cell_type": "code",
      "metadata": {
        "id": "wqX3naaJv74J",
        "colab_type": "code",
        "colab": {}
      },
      "source": [
        ""
      ],
      "execution_count": 0,
      "outputs": []
    },
    {
      "cell_type": "markdown",
      "metadata": {
        "id": "en8LbDiowzAq",
        "colab_type": "text"
      },
      "source": [
        "# Making Catboost DTS Prediction"
      ]
    },
    {
      "cell_type": "code",
      "metadata": {
        "id": "tEAPtuYMw1-_",
        "colab_type": "code",
        "colab": {}
      },
      "source": [
        "train = df.drop(['DTC'],axis=1)\n",
        "train['CNC'] = np.where((train.CNC >= 0.7),0.7,train.CNC)\n",
        "train['HRM'] = np.where((train.HRM >= 10),10,train.HRM)\n",
        "train['HRD'] = np.where((train.HRD >= 10),10,train.HRD)\n",
        "train['GR'] = np.where((train.GR >= 200),200,train.GR)\n",
        "\n",
        "valid1 =valid\n",
        "\n",
        "valid1['CNC'] = np.where((valid1.CNC >= 0.7),0.7,valid1.CNC)\n",
        "valid1['HRM'] = np.where((valid1.HRM >= 10),10,valid1.HRM)\n",
        "valid1['HRD'] = np.where((valid1.HRD >= 10),10,valid1.HRD)\n",
        "valid1['GR'] = np.where((valid1.GR >= 200),200,valid1.GR)\n"
      ],
      "execution_count": 0,
      "outputs": []
    },
    {
      "cell_type": "code",
      "metadata": {
        "id": "_K5y_thww_ux",
        "colab_type": "code",
        "colab": {}
      },
      "source": [
        "X=train.drop([\"DTS\"],axis =1)\n",
        "y = train.DTS"
      ],
      "execution_count": 0,
      "outputs": []
    },
    {
      "cell_type": "code",
      "metadata": {
        "id": "1P6jqvhuxCUh",
        "colab_type": "code",
        "colab": {}
      },
      "source": [
        "test = valid1.drop(['DTC','DTS'],axis=1)"
      ],
      "execution_count": 0,
      "outputs": []
    },
    {
      "cell_type": "code",
      "metadata": {
        "id": "JGINn43uxE0v",
        "colab_type": "code",
        "outputId": "5fe4d4d8-7d80-4fc6-883d-247042325a87",
        "colab": {
          "base_uri": "https://localhost:8080/",
          "height": 1000
        }
      },
      "source": [
        "from catboost import CatBoostRegressor\n",
        "errcb2=[]\n",
        "y_pred_totcb2=[]\n",
        "from sklearn.model_selection import KFold,StratifiedKFold, TimeSeriesSplit\n",
        "from sklearn.metrics import mean_squared_error\n",
        "fold=KFold(n_splits=20)#15#5#10\n",
        "i=1\n",
        "for train_index, test_index in fold.split(X,y):\n",
        "    X_train, X_test = X.iloc[train_index], X.iloc[test_index]\n",
        "    y_train, y_test = y.iloc[train_index], y.iloc[test_index]\n",
        "    m2  = CatBoostRegressor( n_estimators=500,eval_metric='RMSE',learning_rate=0.2, random_seed= 1234, use_best_model=True,)\n",
        "    m2.fit(X_train,y_train,eval_set=[(X_train,y_train),(X_test, y_test)], early_stopping_rounds=200,verbose=100,)#erly100\n",
        "    preds=m2.predict(X_test)\n",
        "    print(\"err: \",np.sqrt(mean_squared_error(y_test,preds)))\n",
        "    errcb2.append(np.sqrt(mean_squared_error(y_test,preds)))\n",
        "    p2 = m2.predict(test)\n",
        "    y_pred_totcb2.append(p2)\n",
        "np.mean(errcb2)"
      ],
      "execution_count": 0,
      "outputs": [
        {
          "output_type": "stream",
          "text": [
            "0:\tlearn: 67.2225051\ttest: 67.2225051\ttest1: 86.3207022\tbest: 86.3207022 (0)\ttotal: 6.81ms\tremaining: 3.4s\n",
            "100:\tlearn: 8.6392078\ttest: 8.6392078\ttest1: 26.7406785\tbest: 22.6952782 (13)\ttotal: 637ms\tremaining: 2.52s\n",
            "200:\tlearn: 7.3175255\ttest: 7.3175255\ttest1: 26.6606314\tbest: 22.6952782 (13)\ttotal: 1.22s\tremaining: 1.81s\n",
            "Stopped by overfitting detector  (200 iterations wait)\n",
            "\n",
            "bestTest = 22.69527817\n",
            "bestIteration = 13\n",
            "\n",
            "Shrink model to first 14 iterations.\n",
            "err:  22.69527813550876\n",
            "0:\tlearn: 64.3721083\ttest: 64.3721083\ttest1: 133.7035599\tbest: 133.7035599 (0)\ttotal: 8.08ms\tremaining: 4.03s\n",
            "100:\tlearn: 8.7615146\ttest: 8.7615146\ttest1: 17.6470929\tbest: 17.1418178 (26)\ttotal: 588ms\tremaining: 2.32s\n",
            "200:\tlearn: 7.3713999\ttest: 7.3713999\ttest1: 16.9594592\tbest: 16.9448831 (189)\ttotal: 1.19s\tremaining: 1.77s\n",
            "300:\tlearn: 6.6601311\ttest: 6.6601311\ttest1: 17.2053199\tbest: 16.9448831 (189)\ttotal: 1.76s\tremaining: 1.16s\n",
            "Stopped by overfitting detector  (200 iterations wait)\n",
            "\n",
            "bestTest = 16.9448831\n",
            "bestIteration = 189\n",
            "\n",
            "Shrink model to first 190 iterations.\n",
            "err:  16.94488324582662\n",
            "0:\tlearn: 58.0860172\ttest: 58.0860172\ttest1: 179.1692967\tbest: 179.1692967 (0)\ttotal: 6.54ms\tremaining: 3.26s\n",
            "100:\tlearn: 8.4550358\ttest: 8.4550358\ttest1: 22.0313254\tbest: 21.9759671 (95)\ttotal: 593ms\tremaining: 2.34s\n",
            "200:\tlearn: 7.1500817\ttest: 7.1500817\ttest1: 21.2756718\tbest: 21.0960672 (184)\ttotal: 1.17s\tremaining: 1.74s\n",
            "300:\tlearn: 6.3660530\ttest: 6.3660530\ttest1: 21.2328258\tbest: 21.0786885 (243)\ttotal: 1.76s\tremaining: 1.17s\n",
            "400:\tlearn: 5.8306358\ttest: 5.8306358\ttest1: 21.2432234\tbest: 21.0786885 (243)\ttotal: 2.34s\tremaining: 578ms\n",
            "Stopped by overfitting detector  (200 iterations wait)\n",
            "\n",
            "bestTest = 21.07868849\n",
            "bestIteration = 243\n",
            "\n",
            "Shrink model to first 244 iterations.\n",
            "err:  21.078687789452413\n",
            "0:\tlearn: 63.3761845\ttest: 63.3761845\ttest1: 138.8004474\tbest: 138.8004474 (0)\ttotal: 6.8ms\tremaining: 3.39s\n",
            "100:\tlearn: 8.1598054\ttest: 8.1598054\ttest1: 29.8065909\tbest: 28.3540967 (24)\ttotal: 590ms\tremaining: 2.33s\n",
            "200:\tlearn: 6.9219291\ttest: 6.9219291\ttest1: 30.2383525\tbest: 28.3540967 (24)\ttotal: 1.18s\tremaining: 1.75s\n",
            "Stopped by overfitting detector  (200 iterations wait)\n",
            "\n",
            "bestTest = 28.35409671\n",
            "bestIteration = 24\n",
            "\n",
            "Shrink model to first 25 iterations.\n",
            "err:  28.35409621108887\n",
            "0:\tlearn: 70.3715402\ttest: 70.3715402\ttest1: 34.5934550\tbest: 34.5934550 (0)\ttotal: 6.61ms\tremaining: 3.3s\n",
            "100:\tlearn: 8.8214542\ttest: 8.8214542\ttest1: 17.6246654\tbest: 17.4962407 (52)\ttotal: 593ms\tremaining: 2.34s\n",
            "200:\tlearn: 7.4625489\ttest: 7.4625489\ttest1: 17.4959463\tbest: 17.3531587 (164)\ttotal: 1.18s\tremaining: 1.75s\n",
            "300:\tlearn: 6.6803151\ttest: 6.6803151\ttest1: 17.7752346\tbest: 17.3531587 (164)\ttotal: 1.77s\tremaining: 1.17s\n",
            "Stopped by overfitting detector  (200 iterations wait)\n",
            "\n",
            "bestTest = 17.35315867\n",
            "bestIteration = 164\n",
            "\n",
            "Shrink model to first 165 iterations.\n",
            "err:  17.35315864914077\n",
            "0:\tlearn: 70.2556084\ttest: 70.2556084\ttest1: 52.1884925\tbest: 52.1884925 (0)\ttotal: 6.81ms\tremaining: 3.4s\n",
            "100:\tlearn: 9.0843520\ttest: 9.0843520\ttest1: 5.0095727\tbest: 4.7651350 (37)\ttotal: 618ms\tremaining: 2.44s\n",
            "200:\tlearn: 7.7520989\ttest: 7.7520989\ttest1: 4.8173663\tbest: 4.7651350 (37)\ttotal: 1.2s\tremaining: 1.78s\n",
            "Stopped by overfitting detector  (200 iterations wait)\n",
            "\n",
            "bestTest = 4.765134956\n",
            "bestIteration = 37\n",
            "\n",
            "Shrink model to first 38 iterations.\n",
            "err:  4.765135092738734\n",
            "0:\tlearn: 70.5984156\ttest: 70.5984156\ttest1: 39.0647783\tbest: 39.0647783 (0)\ttotal: 6.75ms\tremaining: 3.37s\n",
            "100:\tlearn: 8.9999860\ttest: 8.9999860\ttest1: 10.6796651\tbest: 10.6453780 (93)\ttotal: 580ms\tremaining: 2.29s\n",
            "200:\tlearn: 7.6537459\ttest: 7.6537459\ttest1: 10.4814508\tbest: 10.4814508 (200)\ttotal: 1.19s\tremaining: 1.76s\n",
            "300:\tlearn: 6.8773959\ttest: 6.8773959\ttest1: 10.4146621\tbest: 10.4047188 (232)\ttotal: 1.77s\tremaining: 1.17s\n",
            "400:\tlearn: 6.3113083\ttest: 6.3113083\ttest1: 10.2103321\tbest: 10.1440666 (384)\ttotal: 2.35s\tremaining: 582ms\n",
            "499:\tlearn: 5.8671351\ttest: 5.8671351\ttest1: 10.1849169\tbest: 10.1017916 (467)\ttotal: 2.95s\tremaining: 0us\n",
            "\n",
            "bestTest = 10.10179158\n",
            "bestIteration = 467\n",
            "\n",
            "Shrink model to first 468 iterations.\n",
            "err:  10.101791419075433\n",
            "0:\tlearn: 70.4293946\ttest: 70.4293946\ttest1: 28.5254945\tbest: 28.5254945 (0)\ttotal: 7.24ms\tremaining: 3.61s\n",
            "100:\tlearn: 8.9150750\ttest: 8.9150750\ttest1: 20.7056884\tbest: 19.5298654 (22)\ttotal: 587ms\tremaining: 2.32s\n",
            "200:\tlearn: 7.5519206\ttest: 7.5519206\ttest1: 21.2581675\tbest: 19.5298654 (22)\ttotal: 1.17s\tremaining: 1.74s\n",
            "Stopped by overfitting detector  (200 iterations wait)\n",
            "\n",
            "bestTest = 19.52986536\n",
            "bestIteration = 22\n",
            "\n",
            "Shrink model to first 23 iterations.\n",
            "err:  19.529865276153735\n",
            "0:\tlearn: 70.6219163\ttest: 70.6219163\ttest1: 28.7227720\tbest: 28.7227720 (0)\ttotal: 11.9ms\tremaining: 5.93s\n",
            "100:\tlearn: 8.7934765\ttest: 8.7934765\ttest1: 17.7226749\tbest: 15.9382495 (20)\ttotal: 602ms\tremaining: 2.38s\n",
            "200:\tlearn: 7.4555052\ttest: 7.4555052\ttest1: 18.7837056\tbest: 15.9382495 (20)\ttotal: 1.18s\tremaining: 1.76s\n",
            "Stopped by overfitting detector  (200 iterations wait)\n",
            "\n",
            "bestTest = 15.93824946\n",
            "bestIteration = 20\n",
            "\n",
            "Shrink model to first 21 iterations.\n",
            "err:  15.938249250414298\n",
            "0:\tlearn: 70.2586936\ttest: 70.2586936\ttest1: 41.8300886\tbest: 41.8300886 (0)\ttotal: 9.71ms\tremaining: 4.84s\n",
            "100:\tlearn: 8.6814352\ttest: 8.6814352\ttest1: 16.8171071\tbest: 16.7661485 (77)\ttotal: 592ms\tremaining: 2.34s\n",
            "200:\tlearn: 7.3824197\ttest: 7.3824197\ttest1: 16.5727343\tbest: 16.5250718 (165)\ttotal: 1.2s\tremaining: 1.79s\n",
            "300:\tlearn: 6.6289883\ttest: 6.6289883\ttest1: 16.6099252\tbest: 16.5250718 (165)\ttotal: 1.79s\tremaining: 1.18s\n",
            "400:\tlearn: 6.0680700\ttest: 6.0680700\ttest1: 16.4119948\tbest: 16.4094298 (399)\ttotal: 2.39s\tremaining: 589ms\n",
            "499:\tlearn: 5.6735689\ttest: 5.6735689\ttest1: 16.4661146\tbest: 16.3637401 (413)\ttotal: 2.98s\tremaining: 0us\n",
            "\n",
            "bestTest = 16.36374006\n",
            "bestIteration = 413\n",
            "\n",
            "Shrink model to first 414 iterations.\n",
            "err:  16.363740241666186\n",
            "0:\tlearn: 70.5776330\ttest: 70.5776330\ttest1: 11.3169721\tbest: 11.3169721 (0)\ttotal: 6.83ms\tremaining: 3.41s\n",
            "100:\tlearn: 8.8875384\ttest: 8.8875384\ttest1: 15.0504758\tbest: 10.2780039 (3)\ttotal: 620ms\tremaining: 2.45s\n",
            "200:\tlearn: 7.5755634\ttest: 7.5755634\ttest1: 14.5887098\tbest: 10.2780039 (3)\ttotal: 1.22s\tremaining: 1.81s\n",
            "Stopped by overfitting detector  (200 iterations wait)\n",
            "\n",
            "bestTest = 10.27800386\n",
            "bestIteration = 3\n",
            "\n",
            "Shrink model to first 4 iterations.\n",
            "err:  10.278003896268139\n",
            "0:\tlearn: 70.6598156\ttest: 70.6598156\ttest1: 28.9578977\tbest: 28.9578977 (0)\ttotal: 6.69ms\tremaining: 3.34s\n",
            "100:\tlearn: 8.8145223\ttest: 8.8145223\ttest1: 12.6104428\tbest: 11.0520614 (9)\ttotal: 606ms\tremaining: 2.39s\n",
            "200:\tlearn: 7.4918884\ttest: 7.4918884\ttest1: 12.4563659\tbest: 11.0520614 (9)\ttotal: 1.19s\tremaining: 1.76s\n",
            "Stopped by overfitting detector  (200 iterations wait)\n",
            "\n",
            "bestTest = 11.05206141\n",
            "bestIteration = 9\n",
            "\n",
            "Shrink model to first 10 iterations.\n",
            "err:  11.052061353874034\n",
            "0:\tlearn: 70.1272143\ttest: 70.1272143\ttest1: 52.2992976\tbest: 52.2992976 (0)\ttotal: 6.61ms\tremaining: 3.3s\n",
            "100:\tlearn: 9.2260710\ttest: 9.2260710\ttest1: 3.0069996\tbest: 3.0009130 (97)\ttotal: 603ms\tremaining: 2.38s\n",
            "200:\tlearn: 7.8045722\ttest: 7.8045722\ttest1: 3.1797326\tbest: 2.9711394 (127)\ttotal: 1.19s\tremaining: 1.78s\n",
            "300:\tlearn: 7.0338418\ttest: 7.0338418\ttest1: 3.2280322\tbest: 2.9711394 (127)\ttotal: 1.78s\tremaining: 1.18s\n",
            "Stopped by overfitting detector  (200 iterations wait)\n",
            "\n",
            "bestTest = 2.971139354\n",
            "bestIteration = 127\n",
            "\n",
            "Shrink model to first 128 iterations.\n",
            "err:  2.97113925084333\n",
            "0:\tlearn: 69.7031918\ttest: 69.7031918\ttest1: 52.5624100\tbest: 52.5624100 (0)\ttotal: 6.76ms\tremaining: 3.37s\n",
            "100:\tlearn: 9.1279407\ttest: 9.1279407\ttest1: 2.6007318\tbest: 2.5975918 (93)\ttotal: 604ms\tremaining: 2.38s\n",
            "200:\tlearn: 7.7798822\ttest: 7.7798822\ttest1: 2.5750306\tbest: 2.5463971 (178)\ttotal: 1.2s\tremaining: 1.79s\n",
            "300:\tlearn: 7.0109370\ttest: 7.0109370\ttest1: 2.5042584\tbest: 2.5042584 (300)\ttotal: 1.79s\tremaining: 1.18s\n",
            "400:\tlearn: 6.4444402\ttest: 6.4444402\ttest1: 2.5579275\tbest: 2.4935569 (328)\ttotal: 2.4s\tremaining: 593ms\n",
            "499:\tlearn: 6.0104676\ttest: 6.0104676\ttest1: 2.6577523\tbest: 2.4935569 (328)\ttotal: 2.98s\tremaining: 0us\n",
            "\n",
            "bestTest = 2.493556859\n",
            "bestIteration = 328\n",
            "\n",
            "Shrink model to first 329 iterations.\n",
            "err:  2.4935567468579483\n",
            "0:\tlearn: 69.6990848\ttest: 69.6990848\ttest1: 52.4847123\tbest: 52.4847123 (0)\ttotal: 12.2ms\tremaining: 6.08s\n",
            "100:\tlearn: 9.0911016\ttest: 9.0911016\ttest1: 4.7372498\tbest: 4.7261956 (94)\ttotal: 593ms\tremaining: 2.34s\n",
            "200:\tlearn: 7.7034844\ttest: 7.7034844\ttest1: 4.2114439\tbest: 4.2114439 (200)\ttotal: 1.18s\tremaining: 1.75s\n",
            "300:\tlearn: 6.9317452\ttest: 6.9317452\ttest1: 4.1211463\tbest: 4.0875188 (294)\ttotal: 1.77s\tremaining: 1.17s\n",
            "400:\tlearn: 6.3821315\ttest: 6.3821315\ttest1: 4.1033314\tbest: 4.0797159 (324)\ttotal: 2.36s\tremaining: 582ms\n",
            "499:\tlearn: 5.9579699\ttest: 5.9579699\ttest1: 4.0694974\tbest: 4.0694974 (499)\ttotal: 2.94s\tremaining: 0us\n",
            "\n",
            "bestTest = 4.069497434\n",
            "bestIteration = 499\n",
            "\n",
            "err:  4.06949736139615\n",
            "0:\tlearn: 70.5368463\ttest: 70.5368463\ttest1: 37.4370267\tbest: 37.4370267 (0)\ttotal: 6.57ms\tremaining: 3.28s\n",
            "100:\tlearn: 9.1256070\ttest: 9.1256070\ttest1: 8.4812830\tbest: 6.2515503 (7)\ttotal: 589ms\tremaining: 2.33s\n",
            "200:\tlearn: 7.7624244\ttest: 7.7624244\ttest1: 8.1687645\tbest: 6.2515503 (7)\ttotal: 1.18s\tremaining: 1.75s\n",
            "Stopped by overfitting detector  (200 iterations wait)\n",
            "\n",
            "bestTest = 6.251550336\n",
            "bestIteration = 7\n",
            "\n",
            "Shrink model to first 8 iterations.\n",
            "err:  6.2515501505231885\n",
            "0:\tlearn: 70.0249260\ttest: 70.0249260\ttest1: 39.9005493\tbest: 39.9005493 (0)\ttotal: 6.66ms\tremaining: 3.32s\n",
            "100:\tlearn: 9.0756492\ttest: 9.0756492\ttest1: 6.3705694\tbest: 4.6813764 (13)\ttotal: 584ms\tremaining: 2.31s\n",
            "200:\tlearn: 7.7017922\ttest: 7.7017922\ttest1: 6.3550915\tbest: 4.6813764 (13)\ttotal: 1.17s\tremaining: 1.75s\n",
            "Stopped by overfitting detector  (200 iterations wait)\n",
            "\n",
            "bestTest = 4.681376429\n",
            "bestIteration = 13\n",
            "\n",
            "Shrink model to first 14 iterations.\n",
            "err:  4.681376455704901\n",
            "0:\tlearn: 70.3328709\ttest: 70.3328709\ttest1: 22.9599183\tbest: 22.9599183 (0)\ttotal: 6.36ms\tremaining: 3.17s\n",
            "100:\tlearn: 9.0982949\ttest: 9.0982949\ttest1: 14.2303670\tbest: 14.2303670 (100)\ttotal: 598ms\tremaining: 2.36s\n",
            "200:\tlearn: 7.6955929\ttest: 7.6955929\ttest1: 13.0411123\tbest: 13.0389086 (198)\ttotal: 1.18s\tremaining: 1.76s\n",
            "300:\tlearn: 6.8644173\ttest: 6.8644173\ttest1: 13.1489622\tbest: 12.9437136 (213)\ttotal: 1.79s\tremaining: 1.19s\n",
            "400:\tlearn: 6.3042452\ttest: 6.3042452\ttest1: 13.9094692\tbest: 12.9437136 (213)\ttotal: 2.38s\tremaining: 588ms\n",
            "Stopped by overfitting detector  (200 iterations wait)\n",
            "\n",
            "bestTest = 12.94371363\n",
            "bestIteration = 213\n",
            "\n",
            "Shrink model to first 214 iterations.\n",
            "err:  12.943713529376462\n",
            "0:\tlearn: 70.1349729\ttest: 70.1349729\ttest1: 50.6865681\tbest: 50.6865681 (0)\ttotal: 6.77ms\tremaining: 3.38s\n",
            "100:\tlearn: 8.7236439\ttest: 8.7236439\ttest1: 16.4389578\tbest: 16.2530143 (93)\ttotal: 588ms\tremaining: 2.32s\n",
            "200:\tlearn: 7.3994512\ttest: 7.3994512\ttest1: 16.2329177\tbest: 16.2273880 (195)\ttotal: 1.18s\tremaining: 1.75s\n",
            "300:\tlearn: 6.5948703\ttest: 6.5948703\ttest1: 16.3454690\tbest: 16.2273023 (207)\ttotal: 1.77s\tremaining: 1.17s\n",
            "400:\tlearn: 6.0567267\ttest: 6.0567267\ttest1: 16.2955690\tbest: 16.2273023 (207)\ttotal: 2.37s\tremaining: 584ms\n",
            "Stopped by overfitting detector  (200 iterations wait)\n",
            "\n",
            "bestTest = 16.22730229\n",
            "bestIteration = 207\n",
            "\n",
            "Shrink model to first 208 iterations.\n",
            "err:  16.227302312283282\n",
            "0:\tlearn: 70.3868082\ttest: 70.3868082\ttest1: 52.3052743\tbest: 52.3052743 (0)\ttotal: 6.92ms\tremaining: 3.45s\n",
            "100:\tlearn: 8.9144069\ttest: 8.9144069\ttest1: 12.7432575\tbest: 12.7432575 (100)\ttotal: 608ms\tremaining: 2.4s\n",
            "200:\tlearn: 7.5821630\ttest: 7.5821630\ttest1: 12.4518077\tbest: 12.4144782 (186)\ttotal: 1.2s\tremaining: 1.78s\n",
            "300:\tlearn: 6.7985461\ttest: 6.7985461\ttest1: 12.2363173\tbest: 12.0833240 (249)\ttotal: 1.8s\tremaining: 1.19s\n",
            "400:\tlearn: 6.2336964\ttest: 6.2336964\ttest1: 12.0904098\tbest: 11.9949578 (384)\ttotal: 2.39s\tremaining: 591ms\n",
            "499:\tlearn: 5.8030945\ttest: 5.8030945\ttest1: 12.1000148\tbest: 11.9949123 (480)\ttotal: 3s\tremaining: 0us\n",
            "\n",
            "bestTest = 11.99491226\n",
            "bestIteration = 480\n",
            "\n",
            "Shrink model to first 481 iterations.\n",
            "err:  11.994912319142173\n"
          ],
          "name": "stdout"
        },
        {
          "output_type": "execute_result",
          "data": {
            "text/plain": [
              "12.804399934366774"
            ]
          },
          "metadata": {
            "tags": []
          },
          "execution_count": 65
        }
      ]
    },
    {
      "cell_type": "code",
      "metadata": {
        "id": "9yxVxh3bxMWI",
        "colab_type": "code",
        "colab": {}
      },
      "source": [
        "cat_DTS_preds = np.mean(y_pred_totcb2, 0)"
      ],
      "execution_count": 0,
      "outputs": []
    },
    {
      "cell_type": "code",
      "metadata": {
        "id": "j0Ttnv5dxOzI",
        "colab_type": "code",
        "outputId": "ee4592eb-9e4d-4790-8f5f-ca19621fd20b",
        "colab": {
          "base_uri": "https://localhost:8080/",
          "height": 34
        }
      },
      "source": [
        "real_DTS_values = valid['DTS']\n",
        "print('Root Mean Square Error is:', '{:.5f}'.format(np.sqrt(mean_squared_error(real_DTS_values, cat_DTS_preds))))"
      ],
      "execution_count": 0,
      "outputs": [
        {
          "output_type": "stream",
          "text": [
            "Root Mean Square Error is: 25.92826\n"
          ],
          "name": "stdout"
        }
      ]
    },
    {
      "cell_type": "code",
      "metadata": {
        "id": "FkcyT0L8xRdu",
        "colab_type": "code",
        "colab": {}
      },
      "source": [
        ""
      ],
      "execution_count": 0,
      "outputs": []
    },
    {
      "cell_type": "markdown",
      "metadata": {
        "id": "H3oXKy_80Bm4",
        "colab_type": "text"
      },
      "source": [
        "# Checking Performance of Stacking Best 3 models"
      ]
    },
    {
      "cell_type": "code",
      "metadata": {
        "id": "jTfDM54c0Foy",
        "colab_type": "code",
        "colab": {}
      },
      "source": [
        "results['final'] = results['xgb_pred']*0.5 + results['gbr_pred']*0.50"
      ],
      "execution_count": 0,
      "outputs": []
    },
    {
      "cell_type": "code",
      "metadata": {
        "id": "Kv5I-A3j0TIX",
        "colab_type": "code",
        "colab": {}
      },
      "source": [
        "stack1_results = (predict_DTS_lg1 + xgb1_DTS_preds + cat_DTS_preds)"
      ],
      "execution_count": 0,
      "outputs": []
    },
    {
      "cell_type": "code",
      "metadata": {
        "id": "hvaE3-7Y1qgP",
        "colab_type": "code",
        "colab": {}
      },
      "source": [
        "stack1 = (0.8*predict_DTS_lg1) + 0.2*(0.5*xgb1_DTS_preds + 0.5*cat_DTS_preds)"
      ],
      "execution_count": 0,
      "outputs": []
    },
    {
      "cell_type": "code",
      "metadata": {
        "id": "LuGP7tCn4FLi",
        "colab_type": "code",
        "outputId": "72308563-a0fe-404b-d8b8-290ee9c2f830",
        "colab": {
          "base_uri": "https://localhost:8080/",
          "height": 104
        }
      },
      "source": [
        "print(cat_DTS_preds)\n",
        "print(predict_DTS_lg1)\n",
        "print(xgb1_DTS_preds)"
      ],
      "execution_count": 0,
      "outputs": [
        {
          "output_type": "stream",
          "text": [
            "[130.63793234 173.09611358 179.48704373 ... 171.82759232 119.05598592\n",
            " 135.13702046]\n",
            "[125.11330298 172.53376475 183.36965868 ... 168.41358328 113.63495963\n",
            " 131.5982824 ]\n",
            "[123.32403 169.45142 177.19157 ... 168.19225 116.1639  131.64407]\n"
          ],
          "name": "stdout"
        }
      ]
    },
    {
      "cell_type": "code",
      "metadata": {
        "id": "i3oT_hQr4BXh",
        "colab_type": "code",
        "outputId": "a35a7d82-a0aa-4e83-d4db-32ab0c10a591",
        "colab": {
          "base_uri": "https://localhost:8080/",
          "height": 52
        }
      },
      "source": [
        "print(stack1)"
      ],
      "execution_count": 0,
      "outputs": [
        {
          "output_type": "stream",
          "text": [
            "[126.04714158 171.90376477 180.8544838  ... 169.21175109 115.62245186\n",
            " 132.49441469]\n"
          ],
          "name": "stdout"
        }
      ]
    },
    {
      "cell_type": "code",
      "metadata": {
        "id": "98wE417X4DMj",
        "colab_type": "code",
        "colab": {}
      },
      "source": [
        "a = np.array([[1, 2], [3, 4]])"
      ],
      "execution_count": 0,
      "outputs": []
    },
    {
      "cell_type": "code",
      "metadata": {
        "id": "6CzAuZna4h5O",
        "colab_type": "code",
        "colab": {}
      },
      "source": [
        "pred_array = pd.DataFrame()"
      ],
      "execution_count": 0,
      "outputs": []
    },
    {
      "cell_type": "code",
      "metadata": {
        "id": "tFyQ66VZ4qnS",
        "colab_type": "code",
        "colab": {}
      },
      "source": [
        "pred_array['LGBM'] = predict_DTS_lg1\n",
        "pred_array['XGB'] = xgb1_DTS_preds\n",
        "pred_array['CAT'] = cat_DTS_preds"
      ],
      "execution_count": 0,
      "outputs": []
    },
    {
      "cell_type": "code",
      "metadata": {
        "id": "vp8K3njy5IT0",
        "colab_type": "code",
        "colab": {}
      },
      "source": [
        "pred_array['MEAN'] = np.mean(pred_array,axis=1)"
      ],
      "execution_count": 0,
      "outputs": []
    },
    {
      "cell_type": "code",
      "metadata": {
        "id": "JoEKLcTi5WPn",
        "colab_type": "code",
        "outputId": "da903132-8acd-4e44-b618-b7a73fc66a06",
        "colab": {
          "base_uri": "https://localhost:8080/",
          "height": 121
        }
      },
      "source": [
        "pred_array['MEAN'].head()"
      ],
      "execution_count": 0,
      "outputs": [
        {
          "output_type": "execute_result",
          "data": {
            "text/plain": [
              "0    126.358421\n",
              "1    171.693765\n",
              "2    180.016092\n",
              "3    147.417469\n",
              "4    143.235705\n",
              "Name: MEAN, dtype: float64"
            ]
          },
          "metadata": {
            "tags": []
          },
          "execution_count": 74
        }
      ]
    },
    {
      "cell_type": "code",
      "metadata": {
        "id": "EC2NUbAU5ZiO",
        "colab_type": "code",
        "colab": {}
      },
      "source": [
        "stack2 = pred_array['MEAN']"
      ],
      "execution_count": 0,
      "outputs": []
    },
    {
      "cell_type": "code",
      "metadata": {
        "id": "yAymkivy5hO3",
        "colab_type": "code",
        "colab": {}
      },
      "source": [
        ""
      ],
      "execution_count": 0,
      "outputs": []
    },
    {
      "cell_type": "markdown",
      "metadata": {
        "id": "nUbcjwNb5lfH",
        "colab_type": "text"
      },
      "source": [
        "# Checking Performance of Both stacks"
      ]
    },
    {
      "cell_type": "code",
      "metadata": {
        "id": "4UGqqaVf5lHc",
        "colab_type": "code",
        "outputId": "fcf472aa-b89c-4d77-bfdf-0c28b6bfd405",
        "colab": {
          "base_uri": "https://localhost:8080/",
          "height": 34
        }
      },
      "source": [
        "print('Root Mean Square Error is:', '{:.5f}'.format(np.sqrt(mean_squared_error(real_DTS_values, stack1))))"
      ],
      "execution_count": 0,
      "outputs": [
        {
          "output_type": "stream",
          "text": [
            "Root Mean Square Error is: 23.65873\n"
          ],
          "name": "stdout"
        }
      ]
    },
    {
      "cell_type": "code",
      "metadata": {
        "id": "mtx-Cytn5zsN",
        "colab_type": "code",
        "outputId": "bda95337-6c1a-43f9-ebab-471e025d57ef",
        "colab": {
          "base_uri": "https://localhost:8080/",
          "height": 34
        }
      },
      "source": [
        "print('Root Mean Square Error is:', '{:.5f}'.format(np.sqrt(mean_squared_error(real_DTS_values, stack2))))"
      ],
      "execution_count": 0,
      "outputs": [
        {
          "output_type": "stream",
          "text": [
            "Root Mean Square Error is: 24.22970\n"
          ],
          "name": "stdout"
        }
      ]
    },
    {
      "cell_type": "code",
      "metadata": {
        "id": "BYM_ZS4m52Tu",
        "colab_type": "code",
        "colab": {}
      },
      "source": [
        ""
      ],
      "execution_count": 0,
      "outputs": []
    },
    {
      "cell_type": "code",
      "metadata": {
        "id": "pebcSyVO75Yq",
        "colab_type": "code",
        "colab": {}
      },
      "source": [
        ""
      ],
      "execution_count": 0,
      "outputs": []
    },
    {
      "cell_type": "markdown",
      "metadata": {
        "id": "E9_gTxkl75yf",
        "colab_type": "text"
      },
      "source": [
        "# Building other Regressors"
      ]
    },
    {
      "cell_type": "markdown",
      "metadata": {
        "id": "iNsV5ETI8ACG",
        "colab_type": "text"
      },
      "source": [
        "### Random Forest Regressor"
      ]
    },
    {
      "cell_type": "code",
      "metadata": {
        "id": "szYOXTiX79mm",
        "colab_type": "code",
        "colab": {}
      },
      "source": [
        "from sklearn.ensemble import RandomForestRegressor, GradientBoostingRegressor"
      ],
      "execution_count": 0,
      "outputs": []
    },
    {
      "cell_type": "code",
      "metadata": {
        "id": "vAoyHUPV9Qxc",
        "colab_type": "code",
        "colab": {}
      },
      "source": [
        "train = df.drop(['DTC'],axis=1)\n",
        "train['CNC'] = np.where((train.CNC >= 0.7),0.7,train.CNC)\n",
        "train['HRM'] = np.where((train.HRM >= 10),10,train.HRM)\n",
        "train['HRD'] = np.where((train.HRD >= 10),10,train.HRD)\n",
        "train['GR'] = np.where((train.GR >= 150),150,train.GR)"
      ],
      "execution_count": 0,
      "outputs": []
    },
    {
      "cell_type": "code",
      "metadata": {
        "id": "h7WSfsRt-sQL",
        "colab_type": "code",
        "colab": {}
      },
      "source": [
        "valid1 =valid\n",
        "\n",
        "valid1['CNC'] = np.where((valid1.CNC >= 0.7),0.7,valid1.CNC)\n",
        "valid1['HRM'] = np.where((valid1.HRM >= 10),10,valid1.HRM)\n",
        "valid1['HRD'] = np.where((valid1.HRD >= 10),10,valid1.HRD)\n",
        "valid1['GR'] = np.where((valid1.GR >= 150),150,valid1.GR)\n"
      ],
      "execution_count": 0,
      "outputs": []
    },
    {
      "cell_type": "code",
      "metadata": {
        "id": "Wo_uCDb3A4pt",
        "colab_type": "code",
        "colab": {}
      },
      "source": [
        "X = train.drop('DTS',axis=1)\n",
        "y = train['DTS']"
      ],
      "execution_count": 0,
      "outputs": []
    },
    {
      "cell_type": "code",
      "metadata": {
        "id": "Udvp9xhZAesV",
        "colab_type": "code",
        "colab": {}
      },
      "source": [
        "from sklearn.model_selection import train_test_split\n",
        "from sklearn.metrics import r2_score, mean_squared_error, mean_squared_error\n",
        "from sklearn.model_selection import GridSearchCV\n",
        "# train test split\n",
        "# please remember to use random_state for all randomization steps, this will ensure we get the same results \n",
        "# as yours during the validation phase. \n",
        "X_train, X_test, y_train, y_test = train_test_split(X, y, random_state=1234)\n"
      ],
      "execution_count": 0,
      "outputs": []
    },
    {
      "cell_type": "code",
      "metadata": {
        "id": "QZeXnf6P_sIO",
        "colab_type": "code",
        "colab": {}
      },
      "source": [
        "def grid_search(clf, param_grid, X_train=X_train, y_train=y_train):\n",
        "    \"\"\"\n",
        "    Fits a classifier to its training data and prints its ROC AUC score.\n",
        "    \n",
        "    INPUT:\n",
        "    - clf (classifier): classifier to fit\n",
        "    - param_grid (dict): classifier parameters used with GridSearchCV\n",
        "    - X_train (DataFrame): training input\n",
        "    - y_train (DataFrame): training output\n",
        "            \n",
        "    OUTPUT:\n",
        "    - classifier: input classifier fitted to the training data\n",
        "    \"\"\"\n",
        "    # cv uses StratifiedKFold\n",
        "    # scoring r2 as parameter\n",
        "    grid = GridSearchCV(estimator=clf, \n",
        "                        param_grid=param_grid, \n",
        "                        scoring='r2', \n",
        "                        cv=5)\n",
        "    grid.fit(X_train, y_train)\n",
        "    print(grid.best_score_)\n",
        "    \n",
        "    return grid.best_estimator_"
      ],
      "execution_count": 0,
      "outputs": []
    },
    {
      "cell_type": "code",
      "metadata": {
        "id": "R7tFakUTBB_k",
        "colab_type": "code",
        "colab": {}
      },
      "source": [
        "# Random forest model\n",
        "RF = RandomForestRegressor(n_estimators=1000, random_state=1234)\n",
        "RF_best = grid_search(RF, {})"
      ],
      "execution_count": 0,
      "outputs": []
    },
    {
      "cell_type": "code",
      "metadata": {
        "id": "iFf3_Ap7BNic",
        "colab_type": "code",
        "colab": {}
      },
      "source": [
        "RF_DTS_preds = RF_best.predict(test)\n",
        "real_DTS_values = valid['DTS']\n",
        "print('Root Mean Square Error is:', '{:.5f}'.format(np.sqrt(mean_squared_error(real_DTS_values, RF_DTS_preds))))"
      ],
      "execution_count": 0,
      "outputs": []
    }
  ]
}